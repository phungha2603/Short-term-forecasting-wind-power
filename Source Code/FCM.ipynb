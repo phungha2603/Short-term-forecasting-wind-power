{
 "cells": [
  {
   "cell_type": "code",
   "execution_count": 1,
   "metadata": {},
   "outputs": [],
   "source": [
    "import pandas as pd\n",
    "import numpy as np\n",
    "import matplotlib.pyplot as plt\n",
    "from scipy.spatial import distance\n",
    "path = \"C:/Users/Phung Ha/Desktop/Data_final_file/WT_Data_after_preprocessing.csv\"\n",
    "df = pd.read_csv(path)"
   ]
  },
  {
   "cell_type": "code",
   "execution_count": 2,
   "metadata": {},
   "outputs": [],
   "source": [
    "df_full = df.iloc[:,1:3]"
   ]
  },
  {
   "cell_type": "code",
   "execution_count": 3,
   "metadata": {},
   "outputs": [
    {
     "name": "stdout",
     "output_type": "stream",
     "text": [
      "The FCM algorithm: \n",
      "\n",
      "The training data: \n",
      " [[1994.35743433   14.33840323    0.        ]\n",
      " [1984.154051     14.26286127    0.        ]\n",
      " [1998.9528615    14.86438659    0.        ]\n",
      " ...\n",
      " [1993.21669533   13.28333314    0.        ]\n",
      " [1934.66666667   12.73333343    0.        ]\n",
      " [1643.9333495    10.88333337    0.        ]]\n",
      "\n",
      "Total number of data:  7747\n",
      "Total number of features:  2\n",
      "Total number of Clusters:  5\n"
     ]
    }
   ],
   "source": [
    "#chọn số cụm, tạo ma trận cụm\n",
    "X = np.array(df_full).reshape(-1,2)\n",
    "k=5\n",
    "p=2\n",
    "n=len(X)\n",
    "d = len(X[0])\n",
    "addZeros = np.zeros((n, 1))\n",
    "X = np.append(X, addZeros, axis=1)\n",
    "C = np.zeros((k,d+1))\n",
    "print(\"The FCM algorithm: \\n\")\n",
    "print(\"The training data: \\n\", X)\n",
    "print(\"\\nTotal number of data: \",n)\n",
    "print(\"Total number of features: \",d)\n",
    "print(\"Total number of Clusters: \",k)"
   ]
  },
  {
   "cell_type": "code",
   "execution_count": 4,
   "metadata": {},
   "outputs": [
    {
     "name": "stdout",
     "output_type": "stream",
     "text": [
      "\n",
      "The initial weight: \n",
      " [[0.04 0.31 0.1  0.16 0.39]\n",
      " [0.14 0.4  0.22 0.18 0.05]\n",
      " [0.19 0.34 0.24 0.   0.23]\n",
      " ...\n",
      " [0.28 0.05 0.16 0.26 0.26]\n",
      " [0.05 0.16 0.14 0.22 0.43]\n",
      " [0.19 0.   0.5  0.19 0.11]]\n"
     ]
    }
   ],
   "source": [
    "#tạo weight random vào ma trận cụm\n",
    "weight = np.random.dirichlet(np.ones(k),size=n)\n",
    "print(\"\\nThe initial weight: \\n\", np.round(weight,2))"
   ]
  },
  {
   "cell_type": "code",
   "execution_count": 5,
   "metadata": {},
   "outputs": [
    {
     "name": "stdout",
     "output_type": "stream",
     "text": [
      "\n",
      "The final weights: \n",
      " [[0.12 0.07 0.06 0.66 0.08]\n",
      " [0.12 0.07 0.06 0.68 0.08]\n",
      " [0.13 0.07 0.06 0.66 0.08]\n",
      " ...\n",
      " [0.12 0.07 0.06 0.67 0.08]\n",
      " [0.1  0.05 0.05 0.74 0.06]\n",
      " [0.18 0.08 0.07 0.57 0.1 ]]\n"
     ]
    }
   ],
   "source": [
    "#xuất final weight, data thuộc về các cụm\n",
    "for it in range(10): # Total number of iterations\n",
    "        # Compute centroid\n",
    "    for j in range(k):\n",
    "        denoSum = sum(np.power(weight[:,j],2))\n",
    "        sumMM =0\n",
    "        for i in range(n):\n",
    "            mm = np.multiply(np.power(weight[i,j],p),X[i,:])\n",
    "            sumMM +=mm\n",
    "        cc = sumMM/denoSum\n",
    "        C[j] = np.reshape(cc,d+1)\n",
    "    \n",
    " \n",
    "    # print(\"\\nUpdating the fuzzy pseudo partition\")\n",
    "    for i in range(n):\n",
    "        denoSumNext = 0\n",
    "        for j in range(k):\n",
    "             denoSumNext += np.power(1/distance.euclidean(C[j,0:d], X[i,0:d]),1/(p-1))\n",
    "        for j in range(k):\n",
    "            w = np.power((1/distance.euclidean(C[j,0:d], X[i,0:d])),1/(p-1))/denoSumNext\n",
    "            weight[i,j] = w  \n",
    "            \n",
    "print(\"\\nThe final weights: \\n\", np.round(weight,2))"
   ]
  },
  {
   "cell_type": "code",
   "execution_count": 6,
   "metadata": {},
   "outputs": [
    {
     "name": "stdout",
     "output_type": "stream",
     "text": [
      "\n",
      "The data with cluster number: \n",
      " [[1994.35743433   14.33840323    3.        ]\n",
      " [1984.154051     14.26286127    3.        ]\n",
      " [1998.9528615    14.86438659    3.        ]\n",
      " ...\n",
      " [1993.21669533   13.28333314    3.        ]\n",
      " [1934.66666667   12.73333343    3.        ]\n",
      " [1643.9333495    10.88333337    3.        ]]\n"
     ]
    }
   ],
   "source": [
    "for i in range(n):    \n",
    "    cNumber = np.where(weight[i] == np.amax(weight[i]))\n",
    "    X[i,d] = cNumber[0]\n",
    "    \n",
    "print(\"\\nThe data with cluster number: \\n\", X)"
   ]
  },
  {
   "cell_type": "code",
   "execution_count": 7,
   "metadata": {},
   "outputs": [],
   "source": [
    "#đưa Cluster vào df\n",
    "df.insert(4,\"Cluster\",X[:,2],True)"
   ]
  },
  {
   "cell_type": "code",
   "execution_count": 8,
   "metadata": {},
   "outputs": [
    {
     "name": "stdout",
     "output_type": "stream",
     "text": [
      "Number data of Cluster 0:  Cluster\n",
      "False    7087\n",
      "True      660\n",
      "dtype: int64\n",
      "Number data of Cluster 1:  Cluster\n",
      "False    6999\n",
      "True      748\n",
      "dtype: int64\n",
      "Number data of Cluster 2:  Cluster\n",
      "False    4128\n",
      "True     3619\n",
      "dtype: int64\n",
      "Number data of Cluster 3:  Cluster\n",
      "False    5724\n",
      "True     2023\n",
      "dtype: int64\n",
      "Number data of Cluster 4:  Cluster\n",
      "False    7050\n",
      "True      697\n",
      "dtype: int64\n"
     ]
    }
   ],
   "source": [
    "#xuất số lượng Data từng cụm\n",
    "a0 = df.value_counts(df['Cluster']==0)\n",
    "a1 = df.value_counts(df['Cluster']==1)\n",
    "a2 = df.value_counts(df['Cluster']==2)\n",
    "a3 = df.value_counts(df['Cluster']==3)\n",
    "a4 = df.value_counts(df['Cluster']==4)\n",
    "print('Number data of Cluster 0: ',a0)\n",
    "print('Number data of Cluster 1: ',a1)\n",
    "print('Number data of Cluster 2: ',a2)\n",
    "print('Number data of Cluster 3: ',a3)\n",
    "print('Number data of Cluster 4: ',a4)"
   ]
  },
  {
   "cell_type": "code",
   "execution_count": 9,
   "metadata": {},
   "outputs": [
    {
     "data": {
      "text/plain": [
       "<Figure size 720x576 with 0 Axes>"
      ]
     },
     "execution_count": 9,
     "metadata": {},
     "output_type": "execute_result"
    },
    {
     "data": {
      "image/png": "[encoded data removed]",
      "text/plain": [
       "<Figure size 432x288 with 1 Axes>"
      ]
     },
     "metadata": {
      "needs_background": "light"
     },
     "output_type": "display_data"
    },
    {
     "data": {
      "text/plain": [
       "<Figure size 720x576 with 0 Axes>"
      ]
     },
     "metadata": {},
     "output_type": "display_data"
    }
   ],
   "source": [
    "#visualization\n",
    "import matplotlib.pyplot as plt\n",
    "z0 = df.loc[df['Cluster']==0]\n",
    "z1 = df.loc[df['Cluster']==1]\n",
    "z2 = df.loc[df['Cluster']==2]\n",
    "z3 = df.loc[df['Cluster']==3]\n",
    "z4 = df.loc[df['Cluster']==4]\n",
    "plt.scatter(z0.Speed,z0.Power,s=10,label = 'Cluster 0')\n",
    "plt.scatter(z1.Speed,z1.Power,s=10,label = 'Cluster 1')\n",
    "plt.scatter(z2.Speed,z2.Power,s=10,label = 'Cluster 2')\n",
    "plt.scatter(z3.Speed,z3.Power,s=10,label = 'Cluster 3')\n",
    "plt.scatter(z4.Speed,z4.Power,s=10,label = 'Cluster 4')\n",
    "plt.legend()\n",
    "plt.xlabel('Speed (m/s)')\n",
    "plt.ylabel('Power (kW)')\n",
    "plt.figure(figsize=(10,8))"
   ]
  },
  {
   "cell_type": "code",
   "execution_count": 10,
   "metadata": {},
   "outputs": [
    {
     "name": "stdout",
     "output_type": "stream",
     "text": [
      "Centroid of Cluster 0:  [1076.46653899    9.77652603    0.        ]\n",
      "Centroid of Cluster 1:  [342.44137663   5.82034572   0.        ]\n",
      "Centroid of Cluster 2:  [187.19810581   4.74985415   0.        ]\n",
      "Centroid of Cluster 3:  [1822.95682004   13.90200674    0.        ]\n",
      "Centroid of Cluster 4:  [575.15656367   7.24549972   0.        ]\n"
     ]
    }
   ],
   "source": [
    "#xuất centroid\n",
    "print(\"Centroid of Cluster 0: \",C[0])\n",
    "print(\"Centroid of Cluster 1: \",C[1])\n",
    "print(\"Centroid of Cluster 2: \",C[2])\n",
    "print(\"Centroid of Cluster 3: \",C[3])\n",
    "print(\"Centroid of Cluster 4: \",C[4])"
   ]
  },
  {
   "cell_type": "code",
   "execution_count": 11,
   "metadata": {},
   "outputs": [],
   "source": [
    "#đưa thành file csv\n",
    "path_new = \"C:/Users/Phung Ha/Desktop/Data_final_file/WT_Data_after_clustering(FCM).csv\"\n",
    "df.to_csv(path_new,index=0)"
   ]
  },
  {
   "cell_type": "code",
   "execution_count": 12,
   "metadata": {},
   "outputs": [],
   "source": [
    "#tách thành từng file Cluster\n",
    "df0 = df.loc[df['Cluster']==0]\n",
    "df1 = df.loc[df['Cluster']==1]\n",
    "df2 = df.loc[df['Cluster']==2]\n",
    "df3 = df.loc[df['Cluster']==3]\n",
    "df4 = df.loc[df['Cluster']==4]\n",
    "path0 = \"C:/Users/Phung Ha/Desktop/Data_final_file/Cluster 4.csv\"\n",
    "df0.to_csv(path0,index=0)\n",
    "path1 = \"C:/Users/Phung Ha/Desktop/Data_final_file/Cluster 2.csv\"\n",
    "df1.to_csv(path1,index=0)\n",
    "path2 = \"C:/Users/Phung Ha/Desktop/Data_final_file/Cluster 1.csv\"\n",
    "df2.to_csv(path2,index=0)\n",
    "path3 = \"C:/Users/Phung Ha/Desktop/Data_final_file/Cluster 5.csv\"\n",
    "df3.to_csv(path3,index=0)\n",
    "path4 = \"C:/Users/Phung Ha/Desktop/Data_final_file/Cluster 3.csv\"\n",
    "df4.to_csv(path4,index=0)"
   ]
  }
 ],
 "metadata": {
  "kernelspec": {
   "display_name": "Python 3.9.7 64-bit",
   "language": "python",
   "name": "python3"
  },
  "language_info": {
   "codemirror_mode": {
    "name": "ipython",
    "version": 3
   },
   "file_extension": ".py",
   "mimetype": "text/x-python",
   "name": "python",
   "nbconvert_exporter": "python",
   "pygments_lexer": "ipython3",
   "version": "3.9.7"
  },
  "orig_nbformat": 4,
  "vscode": {
   "interpreter": {
    "hash": "18c57900d2f53fe0e8f24866e34731135cdd6bf2a3a09d760d809b365e7e6e6f"
   }
  }
 },
 "nbformat": 4,
 "nbformat_minor": 2
}
