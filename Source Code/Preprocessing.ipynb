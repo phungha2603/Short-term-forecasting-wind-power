{
 "cells": [
  {
   "cell_type": "code",
   "execution_count": 1,
   "metadata": {},
   "outputs": [
    {
     "name": "stderr",
     "output_type": "stream",
     "text": [
      "C:\\Users\\PHUNGH~1\\AppData\\Local\\Temp/ipykernel_2168/3366701813.py:16: FutureWarning: DataFrame.mean and DataFrame.median with numeric_only=None will include datetime64 and datetime64tz columns in a future version.\n",
      "  mean = dict.mean() # coi cái mean này mấy trường hợp mà NaN thì nó xử lý thể nào để đưa vào\n",
      "C:\\Users\\PHUNGH~1\\AppData\\Local\\Temp/ipykernel_2168/3366701813.py:16: FutureWarning: DataFrame.mean and DataFrame.median with numeric_only=None will include datetime64 and datetime64tz columns in a future version.\n",
      "  mean = dict.mean() # coi cái mean này mấy trường hợp mà NaN thì nó xử lý thể nào để đưa vào\n"
     ]
    }
   ],
   "source": [
    "#gọi thư viện\n",
    "import numpy as np\n",
    "import pandas as pd\n",
    "import matplotlib.pyplot as plt\n",
    "# đọc file csv\n",
    "path = \"C:/Users/Phung Ha/Desktop/Data_final_file/WT_Data.csv\"\n",
    "df = pd.read_csv(path)\n",
    "\n",
    "#hàm chuyển đổi 10min -> 1hour\n",
    "def convert_to_hour(data):\n",
    "    data['Date'] = pd.to_datetime(data['Date'], dayfirst= 1)\n",
    "    data[['Power','Speed','Direction']] = data[['Power','Speed','Direction']].apply(pd.to_numeric, errors = 'coerce')\n",
    "    z = pd.DataFrame(columns = ['Date','Power','Speed','Direction'],index = range(len(df)//6))\n",
    "    for i in range(len(data)//6):\n",
    "        dict = data[i*6:i*6+6]\n",
    "        mean = dict.mean() # coi cái mean này mấy trường hợp mà NaN thì nó xử lý thể nào để đưa vào\n",
    "        z.Date[i] = data.Date[i*6]\n",
    "        z.Power[i] = mean.Power\n",
    "        z.Speed[i] = mean.Speed\n",
    "        z.Direction[i] = mean.Direction\n",
    "    z.set_index('Date')\n",
    "    return z\n",
    "convert_to_hour(df)\n",
    "\n",
    "#xuất thành new file csv 1hour resolution\n",
    "df_new=convert_to_hour(df)\n",
    "path_new = \"C:/Users/Phung Ha/Desktop/Data_final_file/WT_Data_convert_to_hour.csv\"\n",
    "df_new.to_csv(path_new,index=0)"
   ]
  },
  {
   "cell_type": "code",
   "execution_count": 2,
   "metadata": {},
   "outputs": [
    {
     "name": "stderr",
     "output_type": "stream",
     "text": [
      "c:\\Users\\Phung Ha\\AppData\\Local\\Programs\\Python\\Python39\\lib\\site-packages\\pandas\\core\\indexing.py:1732: SettingWithCopyWarning: \n",
      "A value is trying to be set on a copy of a slice from a DataFrame\n",
      "\n",
      "See the caveats in the documentation: https://pandas.pydata.org/pandas-docs/stable/user_guide/indexing.html#returning-a-view-versus-a-copy\n",
      "  self._setitem_single_block(indexer, value, name)\n"
     ]
    },
    {
     "data": {
      "text/html": [
       "<div>\n",
       "<style scoped>\n",
       "    .dataframe tbody tr th:only-of-type {\n",
       "        vertical-align: middle;\n",
       "    }\n",
       "\n",
       "    .dataframe tbody tr th {\n",
       "        vertical-align: top;\n",
       "    }\n",
       "\n",
       "    .dataframe thead th {\n",
       "        text-align: right;\n",
       "    }\n",
       "</style>\n",
       "<table border=\"1\" class=\"dataframe\">\n",
       "  <thead>\n",
       "    <tr style=\"text-align: right;\">\n",
       "      <th></th>\n",
       "      <th>Date</th>\n",
       "      <th>Power</th>\n",
       "      <th>Speed</th>\n",
       "      <th>Direction</th>\n",
       "    </tr>\n",
       "  </thead>\n",
       "  <tbody>\n",
       "    <tr>\n",
       "      <th>0</th>\n",
       "      <td>2020-01-01 00:00:00</td>\n",
       "      <td>1994.357434</td>\n",
       "      <td>14.338403</td>\n",
       "      <td>24.464274</td>\n",
       "    </tr>\n",
       "    <tr>\n",
       "      <th>1</th>\n",
       "      <td>2020-01-01 01:00:00</td>\n",
       "      <td>1984.154051</td>\n",
       "      <td>14.262861</td>\n",
       "      <td>22.121012</td>\n",
       "    </tr>\n",
       "    <tr>\n",
       "      <th>2</th>\n",
       "      <td>2020-01-01 02:00:00</td>\n",
       "      <td>1998.952861</td>\n",
       "      <td>14.864387</td>\n",
       "      <td>19.693532</td>\n",
       "    </tr>\n",
       "    <tr>\n",
       "      <th>3</th>\n",
       "      <td>2020-01-01 03:00:00</td>\n",
       "      <td>1978.209535</td>\n",
       "      <td>14.198794</td>\n",
       "      <td>21.544571</td>\n",
       "    </tr>\n",
       "    <tr>\n",
       "      <th>4</th>\n",
       "      <td>2020-01-01 04:00:00</td>\n",
       "      <td>1971.243258</td>\n",
       "      <td>13.556109</td>\n",
       "      <td>19.285413</td>\n",
       "    </tr>\n",
       "    <tr>\n",
       "      <th>...</th>\n",
       "      <td>...</td>\n",
       "      <td>...</td>\n",
       "      <td>...</td>\n",
       "      <td>...</td>\n",
       "    </tr>\n",
       "    <tr>\n",
       "      <th>8779</th>\n",
       "      <td>2020-12-31 19:00:00</td>\n",
       "      <td>1992.116679</td>\n",
       "      <td>15.283333</td>\n",
       "      <td>12.950000</td>\n",
       "    </tr>\n",
       "    <tr>\n",
       "      <th>8780</th>\n",
       "      <td>2020-12-31 20:00:00</td>\n",
       "      <td>1992.366659</td>\n",
       "      <td>14.333333</td>\n",
       "      <td>13.833333</td>\n",
       "    </tr>\n",
       "    <tr>\n",
       "      <th>8781</th>\n",
       "      <td>2020-12-31 21:00:00</td>\n",
       "      <td>1993.216695</td>\n",
       "      <td>13.283333</td>\n",
       "      <td>11.333333</td>\n",
       "    </tr>\n",
       "    <tr>\n",
       "      <th>8782</th>\n",
       "      <td>2020-12-31 22:00:00</td>\n",
       "      <td>1934.666667</td>\n",
       "      <td>12.733333</td>\n",
       "      <td>10.000000</td>\n",
       "    </tr>\n",
       "    <tr>\n",
       "      <th>8783</th>\n",
       "      <td>2020-12-31 23:00:00</td>\n",
       "      <td>1643.933350</td>\n",
       "      <td>10.883333</td>\n",
       "      <td>9.383334</td>\n",
       "    </tr>\n",
       "  </tbody>\n",
       "</table>\n",
       "<p>7874 rows × 4 columns</p>\n",
       "</div>"
      ],
      "text/plain": [
       "                     Date        Power      Speed  Direction\n",
       "0     2020-01-01 00:00:00  1994.357434  14.338403  24.464274\n",
       "1     2020-01-01 01:00:00  1984.154051  14.262861  22.121012\n",
       "2     2020-01-01 02:00:00  1998.952861  14.864387  19.693532\n",
       "3     2020-01-01 03:00:00  1978.209535  14.198794  21.544571\n",
       "4     2020-01-01 04:00:00  1971.243258  13.556109  19.285413\n",
       "...                   ...          ...        ...        ...\n",
       "8779  2020-12-31 19:00:00  1992.116679  15.283333  12.950000\n",
       "8780  2020-12-31 20:00:00  1992.366659  14.333333  13.833333\n",
       "8781  2020-12-31 21:00:00  1993.216695  13.283333  11.333333\n",
       "8782  2020-12-31 22:00:00  1934.666667  12.733333  10.000000\n",
       "8783  2020-12-31 23:00:00  1643.933350  10.883333   9.383334\n",
       "\n",
       "[7874 rows x 4 columns]"
      ]
     },
     "execution_count": 2,
     "metadata": {},
     "output_type": "execute_result"
    }
   ],
   "source": [
    "path = \"C:/Users/Phung Ha/Desktop/Data_final_file/WT_Data_convert_to_hour.csv\"\n",
    "df = pd.read_csv(path)\n",
    "\n",
    "for i,v in enumerate(df['Power']):\n",
    "    if v<0:\n",
    "        df['Power'].iloc[i]=np.nan\n",
    "    else:\n",
    "        pass\n",
    "\n",
    "df['Power']=df['Power'].interpolate()\n",
    "df=df.dropna()\n",
    "df"
   ]
  },
  {
   "cell_type": "code",
   "execution_count": 3,
   "metadata": {},
   "outputs": [
    {
     "data": {
      "text/plain": [
       "Text(0, 0.5, 'Power (kW)')"
      ]
     },
     "execution_count": 3,
     "metadata": {},
     "output_type": "execute_result"
    },
    {
     "data": {
      "image/png": "[encoded data removed]",
      "text/plain": [
       "<Figure size 432x288 with 1 Axes>"
      ]
     },
     "metadata": {
      "needs_background": "light"
     },
     "output_type": "display_data"
    }
   ],
   "source": [
    "plt.scatter(df.Speed,df.Power)\n",
    "plt.xlabel('Speed (m/s)')\n",
    "plt.ylabel('Power (kW)')"
   ]
  },
  {
   "cell_type": "code",
   "execution_count": 4,
   "metadata": {},
   "outputs": [
    {
     "data": {
      "image/png": "[encoded data removed]",
      "text/plain": [
       "<Figure size 432x288 with 1 Axes>"
      ]
     },
     "metadata": {
      "needs_background": "light"
     },
     "output_type": "display_data"
    }
   ],
   "source": [
    "#Function of Reg Line\n",
    "def visualize(a):\n",
    "    plt.scatter(a.Speed,a.Power)\n",
    "    plt.xlabel('Speed (m/s)')\n",
    "    plt.ylabel('Power (kW)')\n",
    "\n",
    "def cutting1():\n",
    "    o = np.array([6,9,11.8,12.8,15.6])\n",
    "    p = np.array([30,150,1250,1800,1980])\n",
    "    m1, b1 = np.polyfit(o, p, 1)\n",
    "    plt.plot(o, (m1+5)*o + b1+50,'r')\n",
    "    return m1,b1\n",
    "m1,b1 = cutting1()\n",
    "\n",
    "def cutting2():\n",
    "    o = np.array([4.5,5.5,6.5])\n",
    "    p = np.array([10,125,145])\n",
    "    m2, b2 = np.polyfit(o, p, 1)\n",
    "    plt.plot(o, (m2-10)*o + b2+15,'r')\n",
    "    return m2,b2\n",
    "m2,b2 = cutting2()\n",
    "\n",
    "def cutting3():\n",
    "    o = np.array([0,1,2,3,4.5])\n",
    "    p = np.array([220,220,220,220,220])\n",
    "    m3,b3 = np.polyfit(o,p,1)\n",
    "    plt.plot(o,m3*o+b3,'r')\n",
    "    return m3,b3\n",
    "m3,b3 = cutting3()"
   ]
  },
  {
   "cell_type": "code",
   "execution_count": 5,
   "metadata": {},
   "outputs": [
    {
     "data": {
      "text/plain": [
       "<Figure size 720x576 with 0 Axes>"
      ]
     },
     "execution_count": 5,
     "metadata": {},
     "output_type": "execute_result"
    },
    {
     "data": {
      "image/png": "[encoded data removed]",
      "text/plain": [
       "<Figure size 432x288 with 1 Axes>"
      ]
     },
     "metadata": {
      "needs_background": "light"
     },
     "output_type": "display_data"
    },
    {
     "data": {
      "text/plain": [
       "<Figure size 720x576 with 0 Axes>"
      ]
     },
     "metadata": {},
     "output_type": "display_data"
    }
   ],
   "source": [
    "#Visualization\n",
    "fig,axes  = plt.subplots()\n",
    "axes = visualize(df)\n",
    "axes = cutting1()\n",
    "axes = cutting2()\n",
    "axes = cutting3()\n",
    "plt.figure(figsize=(10,8))"
   ]
  },
  {
   "cell_type": "code",
   "execution_count": 6,
   "metadata": {},
   "outputs": [
    {
     "name": "stderr",
     "output_type": "stream",
     "text": [
      "c:\\Users\\Phung Ha\\AppData\\Local\\Programs\\Python\\Python39\\lib\\site-packages\\pandas\\core\\indexing.py:1732: SettingWithCopyWarning: \n",
      "A value is trying to be set on a copy of a slice from a DataFrame\n",
      "\n",
      "See the caveats in the documentation: https://pandas.pydata.org/pandas-docs/stable/user_guide/indexing.html#returning-a-view-versus-a-copy\n",
      "  self._setitem_single_block(indexer, value, name)\n"
     ]
    },
    {
     "data": {
      "text/plain": [
       "<matplotlib.collections.PathCollection at 0x22d05981ca0>"
      ]
     },
     "execution_count": 6,
     "metadata": {},
     "output_type": "execute_result"
    },
    {
     "data": {
      "image/png": "[encoded data removed]",
      "text/plain": [
       "<Figure size 432x288 with 1 Axes>"
      ]
     },
     "metadata": {
      "needs_background": "light"
     },
     "output_type": "display_data"
    }
   ],
   "source": [
    "#Cutting Data\n",
    "for i,v in enumerate(df['Power']):\n",
    "    if v < ((m1+5)*df['Speed'].iloc[i]+b1+50) and v < 1980:\n",
    "        df['Power'].iloc[i]=np.nan\n",
    "    else:\n",
    "        pass\n",
    "df = df.dropna()\n",
    "\n",
    "for i,v in enumerate(df['Power']):\n",
    "    if v < ((m2-10)*df['Speed'].iloc[i]+b2+15) and v < 225:\n",
    "        df['Power'].iloc[i]=np.nan\n",
    "    else:\n",
    "        pass\n",
    "df = df.dropna()\n",
    "\n",
    "for i,v in enumerate(df['Power']):\n",
    "    if v > (m3*df['Speed'].iloc[i] + b3) and (df['Speed'].iloc[i]<5):\n",
    "        df['Power'].iloc[i]=np.nan\n",
    "    else:\n",
    "        pass\n",
    "df = df.dropna()\n",
    "\n",
    "#Visualization\n",
    "plt.scatter(df.Speed,df.Power)"
   ]
  },
  {
   "cell_type": "code",
   "execution_count": 7,
   "metadata": {},
   "outputs": [],
   "source": [
    "path_final = \"C:/Users/Phung Ha/Desktop/Data_final_file/WT_Data_after_preprocessing.csv\"\n",
    "df = df.reset_index().drop('index',axis=1).set_index('Date')\n",
    "df.to_csv(path_final,index=1)"
   ]
  }
 ],
 "metadata": {
  "kernelspec": {
   "display_name": "Python 3.9.7 64-bit",
   "language": "python",
   "name": "python3"
  },
  "language_info": {
   "codemirror_mode": {
    "name": "ipython",
    "version": 3
   },
   "file_extension": ".py",
   "mimetype": "text/x-python",
   "name": "python",
   "nbconvert_exporter": "python",
   "pygments_lexer": "ipython3",
   "version": "3.9.7"
  },
  "orig_nbformat": 4,
  "vscode": {
   "interpreter": {
    "hash": "18c57900d2f53fe0e8f24866e34731135cdd6bf2a3a09d760d809b365e7e6e6f"
   }
  }
 },
 "nbformat": 4,
 "nbformat_minor": 2
}
